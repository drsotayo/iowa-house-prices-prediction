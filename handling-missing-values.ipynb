{
 "cells": [
  {
   "cell_type": "markdown",
   "id": "9b6907ba",
   "metadata": {
    "papermill": {
     "duration": 0.035387,
     "end_time": "2021-08-17T19:15:45.054094",
     "exception": false,
     "start_time": "2021-08-17T19:15:45.018707",
     "status": "completed"
    },
    "tags": []
   },
   "source": [
    "**This notebook is an exercise in the [Intermediate Machine Learning](https://www.kaggle.com/learn/intermediate-machine-learning) course.  You can reference the tutorial at [this link](https://www.kaggle.com/alexisbcook/missing-values).**\n",
    "\n",
    "---\n"
   ]
  },
  {
   "cell_type": "markdown",
   "id": "3554d648",
   "metadata": {
    "papermill": {
     "duration": 0.028454,
     "end_time": "2021-08-17T19:15:45.118388",
     "exception": false,
     "start_time": "2021-08-17T19:15:45.089934",
     "status": "completed"
    },
    "tags": []
   },
   "source": [
    "Now it's your turn to test your new knowledge of **missing values** handling. You'll probably find it makes a big difference.\n",
    "\n",
    "# Setup\n",
    "\n",
    "The questions will give you feedback on your work. Run the following cell to set up the feedback system."
   ]
  },
  {
   "cell_type": "code",
   "execution_count": 1,
   "id": "a1e7fab6",
   "metadata": {
    "execution": {
     "iopub.execute_input": "2021-08-17T19:15:45.188259Z",
     "iopub.status.busy": "2021-08-17T19:15:45.184433Z",
     "iopub.status.idle": "2021-08-17T19:15:45.325195Z",
     "shell.execute_reply": "2021-08-17T19:15:45.326259Z",
     "shell.execute_reply.started": "2021-08-17T18:23:44.157021Z"
    },
    "papermill": {
     "duration": 0.18064,
     "end_time": "2021-08-17T19:15:45.326767",
     "exception": false,
     "start_time": "2021-08-17T19:15:45.146127",
     "status": "completed"
    },
    "tags": []
   },
   "outputs": [
    {
     "name": "stdout",
     "output_type": "stream",
     "text": [
      "Setup Complete\n"
     ]
    }
   ],
   "source": [
    "# Set up code checking\n",
    "import os\n",
    "if not os.path.exists(\"../input/train.csv\"):\n",
    "    os.symlink(\"../input/home-data-for-ml-course/train.csv\", \"../input/train.csv\")  \n",
    "    os.symlink(\"../input/home-data-for-ml-course/test.csv\", \"../input/test.csv\") \n",
    "from learntools.core import binder\n",
    "binder.bind(globals())\n",
    "from learntools.ml_intermediate.ex2 import *\n",
    "print(\"Setup Complete\")"
   ]
  },
  {
   "cell_type": "markdown",
   "id": "fbf935bb",
   "metadata": {
    "papermill": {
     "duration": 0.027541,
     "end_time": "2021-08-17T19:15:45.383485",
     "exception": false,
     "start_time": "2021-08-17T19:15:45.355944",
     "status": "completed"
    },
    "tags": []
   },
   "source": [
    "In this exercise, you will work with data from the [Housing Prices Competition for Kaggle Learn Users](https://www.kaggle.com/c/home-data-for-ml-course). \n",
    "\n",
    "![Ames Housing dataset image](https://i.imgur.com/lTJVG4e.png)\n",
    "\n",
    "Run the next code cell without changes to load the training and validation sets in `X_train`, `X_valid`, `y_train`, and `y_valid`.  The test set is loaded in `X_test`."
   ]
  },
  {
   "cell_type": "code",
   "execution_count": 2,
   "id": "9c20a37a",
   "metadata": {
    "execution": {
     "iopub.execute_input": "2021-08-17T19:15:45.442784Z",
     "iopub.status.busy": "2021-08-17T19:15:45.441811Z",
     "iopub.status.idle": "2021-08-17T19:15:46.524675Z",
     "shell.execute_reply": "2021-08-17T19:15:46.525153Z",
     "shell.execute_reply.started": "2021-08-17T18:41:21.522892Z"
    },
    "papermill": {
     "duration": 1.113729,
     "end_time": "2021-08-17T19:15:46.525359",
     "exception": false,
     "start_time": "2021-08-17T19:15:45.411630",
     "status": "completed"
    },
    "tags": []
   },
   "outputs": [],
   "source": [
    "import pandas as pd\n",
    "from sklearn.model_selection import train_test_split\n",
    "\n",
    "# Read the data\n",
    "X_full = pd.read_csv('../input/train.csv', index_col='Id')\n",
    "X_test_full = pd.read_csv('../input/test.csv', index_col='Id')\n",
    "\n",
    "# Remove rows with missing target, separate target from predictors\n",
    "X_full.dropna(axis=0, subset=['SalePrice'], inplace=True)\n",
    "y = X_full.SalePrice\n",
    "X_full.drop(['SalePrice'], axis=1, inplace=True)\n",
    "\n",
    "# To keep things simple, we'll use only numerical predictors\n",
    "X = X_full.select_dtypes(exclude=['object'])\n",
    "X_test = X_test_full.select_dtypes(exclude=['object'])\n",
    "\n",
    "# Break off validation set from training data\n",
    "X_train, X_valid, y_train, y_valid = train_test_split(X, y, train_size=0.8, test_size=0.2,\n",
    "                                                      random_state=0)"
   ]
  },
  {
   "cell_type": "markdown",
   "id": "05c597b1",
   "metadata": {
    "papermill": {
     "duration": 0.028816,
     "end_time": "2021-08-17T19:15:46.581984",
     "exception": false,
     "start_time": "2021-08-17T19:15:46.553168",
     "status": "completed"
    },
    "tags": []
   },
   "source": [
    "Use the next code cell to print the first five rows of the data."
   ]
  },
  {
   "cell_type": "code",
   "execution_count": 3,
   "id": "71e31d98",
   "metadata": {
    "execution": {
     "iopub.execute_input": "2021-08-17T19:15:46.664429Z",
     "iopub.status.busy": "2021-08-17T19:15:46.663378Z",
     "iopub.status.idle": "2021-08-17T19:15:46.697989Z",
     "shell.execute_reply": "2021-08-17T19:15:46.698534Z",
     "shell.execute_reply.started": "2021-08-17T18:41:45.018669Z"
    },
    "papermill": {
     "duration": 0.084468,
     "end_time": "2021-08-17T19:15:46.698746",
     "exception": false,
     "start_time": "2021-08-17T19:15:46.614278",
     "status": "completed"
    },
    "tags": []
   },
   "outputs": [
    {
     "data": {
      "text/html": [
       "<div>\n",
       "<style scoped>\n",
       "    .dataframe tbody tr th:only-of-type {\n",
       "        vertical-align: middle;\n",
       "    }\n",
       "\n",
       "    .dataframe tbody tr th {\n",
       "        vertical-align: top;\n",
       "    }\n",
       "\n",
       "    .dataframe thead th {\n",
       "        text-align: right;\n",
       "    }\n",
       "</style>\n",
       "<table border=\"1\" class=\"dataframe\">\n",
       "  <thead>\n",
       "    <tr style=\"text-align: right;\">\n",
       "      <th></th>\n",
       "      <th>MSSubClass</th>\n",
       "      <th>LotFrontage</th>\n",
       "      <th>LotArea</th>\n",
       "      <th>OverallQual</th>\n",
       "      <th>OverallCond</th>\n",
       "      <th>YearBuilt</th>\n",
       "      <th>YearRemodAdd</th>\n",
       "      <th>MasVnrArea</th>\n",
       "      <th>BsmtFinSF1</th>\n",
       "      <th>BsmtFinSF2</th>\n",
       "      <th>...</th>\n",
       "      <th>GarageArea</th>\n",
       "      <th>WoodDeckSF</th>\n",
       "      <th>OpenPorchSF</th>\n",
       "      <th>EnclosedPorch</th>\n",
       "      <th>3SsnPorch</th>\n",
       "      <th>ScreenPorch</th>\n",
       "      <th>PoolArea</th>\n",
       "      <th>MiscVal</th>\n",
       "      <th>MoSold</th>\n",
       "      <th>YrSold</th>\n",
       "    </tr>\n",
       "    <tr>\n",
       "      <th>Id</th>\n",
       "      <th></th>\n",
       "      <th></th>\n",
       "      <th></th>\n",
       "      <th></th>\n",
       "      <th></th>\n",
       "      <th></th>\n",
       "      <th></th>\n",
       "      <th></th>\n",
       "      <th></th>\n",
       "      <th></th>\n",
       "      <th></th>\n",
       "      <th></th>\n",
       "      <th></th>\n",
       "      <th></th>\n",
       "      <th></th>\n",
       "      <th></th>\n",
       "      <th></th>\n",
       "      <th></th>\n",
       "      <th></th>\n",
       "      <th></th>\n",
       "      <th></th>\n",
       "    </tr>\n",
       "  </thead>\n",
       "  <tbody>\n",
       "    <tr>\n",
       "      <th>619</th>\n",
       "      <td>20</td>\n",
       "      <td>90.0</td>\n",
       "      <td>11694</td>\n",
       "      <td>9</td>\n",
       "      <td>5</td>\n",
       "      <td>2007</td>\n",
       "      <td>2007</td>\n",
       "      <td>452.0</td>\n",
       "      <td>48</td>\n",
       "      <td>0</td>\n",
       "      <td>...</td>\n",
       "      <td>774</td>\n",
       "      <td>0</td>\n",
       "      <td>108</td>\n",
       "      <td>0</td>\n",
       "      <td>0</td>\n",
       "      <td>260</td>\n",
       "      <td>0</td>\n",
       "      <td>0</td>\n",
       "      <td>7</td>\n",
       "      <td>2007</td>\n",
       "    </tr>\n",
       "    <tr>\n",
       "      <th>871</th>\n",
       "      <td>20</td>\n",
       "      <td>60.0</td>\n",
       "      <td>6600</td>\n",
       "      <td>5</td>\n",
       "      <td>5</td>\n",
       "      <td>1962</td>\n",
       "      <td>1962</td>\n",
       "      <td>0.0</td>\n",
       "      <td>0</td>\n",
       "      <td>0</td>\n",
       "      <td>...</td>\n",
       "      <td>308</td>\n",
       "      <td>0</td>\n",
       "      <td>0</td>\n",
       "      <td>0</td>\n",
       "      <td>0</td>\n",
       "      <td>0</td>\n",
       "      <td>0</td>\n",
       "      <td>0</td>\n",
       "      <td>8</td>\n",
       "      <td>2009</td>\n",
       "    </tr>\n",
       "    <tr>\n",
       "      <th>93</th>\n",
       "      <td>30</td>\n",
       "      <td>80.0</td>\n",
       "      <td>13360</td>\n",
       "      <td>5</td>\n",
       "      <td>7</td>\n",
       "      <td>1921</td>\n",
       "      <td>2006</td>\n",
       "      <td>0.0</td>\n",
       "      <td>713</td>\n",
       "      <td>0</td>\n",
       "      <td>...</td>\n",
       "      <td>432</td>\n",
       "      <td>0</td>\n",
       "      <td>0</td>\n",
       "      <td>44</td>\n",
       "      <td>0</td>\n",
       "      <td>0</td>\n",
       "      <td>0</td>\n",
       "      <td>0</td>\n",
       "      <td>8</td>\n",
       "      <td>2009</td>\n",
       "    </tr>\n",
       "    <tr>\n",
       "      <th>818</th>\n",
       "      <td>20</td>\n",
       "      <td>NaN</td>\n",
       "      <td>13265</td>\n",
       "      <td>8</td>\n",
       "      <td>5</td>\n",
       "      <td>2002</td>\n",
       "      <td>2002</td>\n",
       "      <td>148.0</td>\n",
       "      <td>1218</td>\n",
       "      <td>0</td>\n",
       "      <td>...</td>\n",
       "      <td>857</td>\n",
       "      <td>150</td>\n",
       "      <td>59</td>\n",
       "      <td>0</td>\n",
       "      <td>0</td>\n",
       "      <td>0</td>\n",
       "      <td>0</td>\n",
       "      <td>0</td>\n",
       "      <td>7</td>\n",
       "      <td>2008</td>\n",
       "    </tr>\n",
       "    <tr>\n",
       "      <th>303</th>\n",
       "      <td>20</td>\n",
       "      <td>118.0</td>\n",
       "      <td>13704</td>\n",
       "      <td>7</td>\n",
       "      <td>5</td>\n",
       "      <td>2001</td>\n",
       "      <td>2002</td>\n",
       "      <td>150.0</td>\n",
       "      <td>0</td>\n",
       "      <td>0</td>\n",
       "      <td>...</td>\n",
       "      <td>843</td>\n",
       "      <td>468</td>\n",
       "      <td>81</td>\n",
       "      <td>0</td>\n",
       "      <td>0</td>\n",
       "      <td>0</td>\n",
       "      <td>0</td>\n",
       "      <td>0</td>\n",
       "      <td>1</td>\n",
       "      <td>2006</td>\n",
       "    </tr>\n",
       "  </tbody>\n",
       "</table>\n",
       "<p>5 rows × 36 columns</p>\n",
       "</div>"
      ],
      "text/plain": [
       "     MSSubClass  LotFrontage  LotArea  OverallQual  OverallCond  YearBuilt  \\\n",
       "Id                                                                           \n",
       "619          20         90.0    11694            9            5       2007   \n",
       "871          20         60.0     6600            5            5       1962   \n",
       "93           30         80.0    13360            5            7       1921   \n",
       "818          20          NaN    13265            8            5       2002   \n",
       "303          20        118.0    13704            7            5       2001   \n",
       "\n",
       "     YearRemodAdd  MasVnrArea  BsmtFinSF1  BsmtFinSF2  ...  GarageArea  \\\n",
       "Id                                                     ...               \n",
       "619          2007       452.0          48           0  ...         774   \n",
       "871          1962         0.0           0           0  ...         308   \n",
       "93           2006         0.0         713           0  ...         432   \n",
       "818          2002       148.0        1218           0  ...         857   \n",
       "303          2002       150.0           0           0  ...         843   \n",
       "\n",
       "     WoodDeckSF  OpenPorchSF  EnclosedPorch  3SsnPorch  ScreenPorch  PoolArea  \\\n",
       "Id                                                                              \n",
       "619           0          108              0          0          260         0   \n",
       "871           0            0              0          0            0         0   \n",
       "93            0            0             44          0            0         0   \n",
       "818         150           59              0          0            0         0   \n",
       "303         468           81              0          0            0         0   \n",
       "\n",
       "     MiscVal  MoSold  YrSold  \n",
       "Id                            \n",
       "619        0       7    2007  \n",
       "871        0       8    2009  \n",
       "93         0       8    2009  \n",
       "818        0       7    2008  \n",
       "303        0       1    2006  \n",
       "\n",
       "[5 rows x 36 columns]"
      ]
     },
     "execution_count": 3,
     "metadata": {},
     "output_type": "execute_result"
    }
   ],
   "source": [
    "X_train.head()"
   ]
  },
  {
   "cell_type": "markdown",
   "id": "cf0bfb85",
   "metadata": {
    "papermill": {
     "duration": 0.028419,
     "end_time": "2021-08-17T19:15:46.760335",
     "exception": false,
     "start_time": "2021-08-17T19:15:46.731916",
     "status": "completed"
    },
    "tags": []
   },
   "source": [
    "You can already see a few missing values in the first several rows.  In the next step, you'll obtain a more comprehensive understanding of the missing values in the dataset.\n",
    "\n",
    "# Step 1: Preliminary investigation\n",
    "\n",
    "Run the code cell below without changes."
   ]
  },
  {
   "cell_type": "code",
   "execution_count": 4,
   "id": "8ac42159",
   "metadata": {
    "execution": {
     "iopub.execute_input": "2021-08-17T19:15:46.828880Z",
     "iopub.status.busy": "2021-08-17T19:15:46.827993Z",
     "iopub.status.idle": "2021-08-17T19:15:46.832737Z",
     "shell.execute_reply": "2021-08-17T19:15:46.832210Z",
     "shell.execute_reply.started": "2021-08-17T18:42:13.553891Z"
    },
    "papermill": {
     "duration": 0.042197,
     "end_time": "2021-08-17T19:15:46.832874",
     "exception": false,
     "start_time": "2021-08-17T19:15:46.790677",
     "status": "completed"
    },
    "tags": []
   },
   "outputs": [
    {
     "name": "stdout",
     "output_type": "stream",
     "text": [
      "(1168, 36)\n",
      "LotFrontage    212\n",
      "MasVnrArea       6\n",
      "GarageYrBlt     58\n",
      "dtype: int64\n"
     ]
    }
   ],
   "source": [
    "# Shape of training data (num_rows, num_columns)\n",
    "print(X_train.shape)\n",
    "\n",
    "# Number of missing values in each column of training data\n",
    "missing_val_count_by_column = (X_train.isnull().sum())\n",
    "print(missing_val_count_by_column[missing_val_count_by_column > 0])"
   ]
  },
  {
   "cell_type": "markdown",
   "id": "053368ac",
   "metadata": {
    "papermill": {
     "duration": 0.028862,
     "end_time": "2021-08-17T19:15:46.891425",
     "exception": false,
     "start_time": "2021-08-17T19:15:46.862563",
     "status": "completed"
    },
    "tags": []
   },
   "source": [
    "### Part A\n",
    "\n",
    "Use the above output to answer the questions below."
   ]
  },
  {
   "cell_type": "code",
   "execution_count": 5,
   "id": "a168903c",
   "metadata": {
    "execution": {
     "iopub.execute_input": "2021-08-17T19:15:46.956357Z",
     "iopub.status.busy": "2021-08-17T19:15:46.955337Z",
     "iopub.status.idle": "2021-08-17T19:15:46.960680Z",
     "shell.execute_reply": "2021-08-17T19:15:46.961187Z",
     "shell.execute_reply.started": "2021-08-17T18:44:05.950389Z"
    },
    "papermill": {
     "duration": 0.040603,
     "end_time": "2021-08-17T19:15:46.961377",
     "exception": false,
     "start_time": "2021-08-17T19:15:46.920774",
     "status": "completed"
    },
    "tags": []
   },
   "outputs": [
    {
     "data": {
      "application/javascript": [
       "parent.postMessage({\"jupyterEvent\": \"custom.exercise_interaction\", \"data\": {\"outcomeType\": 1, \"valueTowardsCompletion\": 1.0, \"interactionType\": 1, \"questionType\": 1, \"questionId\": \"1.1_InvestigateEquality\", \"learnToolsVersion\": \"0.3.4\", \"failureMessage\": \"\", \"exceptionClass\": \"\", \"trace\": \"\"}}, \"*\")"
      ],
      "text/plain": [
       "<IPython.core.display.Javascript object>"
      ]
     },
     "metadata": {},
     "output_type": "display_data"
    },
    {
     "data": {
      "text/markdown": [
       "<span style=\"color:#33cc33\">Correct</span>"
      ],
      "text/plain": [
       "Correct"
      ]
     },
     "metadata": {},
     "output_type": "display_data"
    }
   ],
   "source": [
    "# Fill in the line below: How many rows are in the training data?\n",
    "num_rows = 1168\n",
    "\n",
    "# Fill in the line below: How many columns in the training data\n",
    "# have missing values?\n",
    "num_cols_with_missing = 3\n",
    "\n",
    "# Fill in the line below: How many missing entries are contained in \n",
    "# all of the training data?\n",
    "tot_missing = 276\n",
    "\n",
    "# Check your answers\n",
    "step_1.a.check()"
   ]
  },
  {
   "cell_type": "code",
   "execution_count": 6,
   "id": "999ded79",
   "metadata": {
    "execution": {
     "iopub.execute_input": "2021-08-17T19:15:47.024096Z",
     "iopub.status.busy": "2021-08-17T19:15:47.023443Z",
     "iopub.status.idle": "2021-08-17T19:15:47.027595Z",
     "shell.execute_reply": "2021-08-17T19:15:47.026911Z"
    },
    "papermill": {
     "duration": 0.036595,
     "end_time": "2021-08-17T19:15:47.027754",
     "exception": false,
     "start_time": "2021-08-17T19:15:46.991159",
     "status": "completed"
    },
    "tags": []
   },
   "outputs": [],
   "source": [
    "# Lines below will give you a hint or solution code\n",
    "#step_1.a.hint()\n",
    "#step_1.a.solution()"
   ]
  },
  {
   "cell_type": "markdown",
   "id": "b2952a5d",
   "metadata": {
    "papermill": {
     "duration": 0.02973,
     "end_time": "2021-08-17T19:15:47.087659",
     "exception": false,
     "start_time": "2021-08-17T19:15:47.057929",
     "status": "completed"
    },
    "tags": []
   },
   "source": [
    "### Part B\n",
    "Considering your answers above, what do you think is likely the best approach to dealing with the missing values?"
   ]
  },
  {
   "cell_type": "code",
   "execution_count": 7,
   "id": "79f64043",
   "metadata": {
    "execution": {
     "iopub.execute_input": "2021-08-17T19:15:47.151752Z",
     "iopub.status.busy": "2021-08-17T19:15:47.151091Z",
     "iopub.status.idle": "2021-08-17T19:15:47.156827Z",
     "shell.execute_reply": "2021-08-17T19:15:47.157334Z",
     "shell.execute_reply.started": "2021-08-17T18:44:53.441402Z"
    },
    "papermill": {
     "duration": 0.038906,
     "end_time": "2021-08-17T19:15:47.157503",
     "exception": false,
     "start_time": "2021-08-17T19:15:47.118597",
     "status": "completed"
    },
    "tags": []
   },
   "outputs": [
    {
     "data": {
      "application/javascript": [
       "parent.postMessage({\"jupyterEvent\": \"custom.exercise_interaction\", \"data\": {\"outcomeType\": 1, \"valueTowardsCompletion\": 1.0, \"interactionType\": 1, \"questionType\": 4, \"questionId\": \"1.2_InvestigateThought\", \"learnToolsVersion\": \"0.3.4\", \"failureMessage\": \"\", \"exceptionClass\": \"\", \"trace\": \"\"}}, \"*\")"
      ],
      "text/plain": [
       "<IPython.core.display.Javascript object>"
      ]
     },
     "metadata": {},
     "output_type": "display_data"
    },
    {
     "data": {
      "text/markdown": [
       "<span style=\"color:#33cc33\">Correct:</span> \n",
       "\n",
       "Since there are relatively few missing entries in the data (the column with the greatest percentage of missing values is missing less than 20% of its entries), we can expect that dropping columns is unlikely to yield good results.  This is because we'd be throwing away a lot of valuable data, and so imputation will likely perform better."
      ],
      "text/plain": [
       "Correct: \n",
       "\n",
       "Since there are relatively few missing entries in the data (the column with the greatest percentage of missing values is missing less than 20% of its entries), we can expect that dropping columns is unlikely to yield good results.  This is because we'd be throwing away a lot of valuable data, and so imputation will likely perform better."
      ]
     },
     "metadata": {},
     "output_type": "display_data"
    }
   ],
   "source": [
    "# Check your answer (Run this code cell to receive credit!)\n",
    "step_1.b.check()"
   ]
  },
  {
   "cell_type": "code",
   "execution_count": 8,
   "id": "61d9bfe3",
   "metadata": {
    "execution": {
     "iopub.execute_input": "2021-08-17T19:15:47.222156Z",
     "iopub.status.busy": "2021-08-17T19:15:47.221544Z",
     "iopub.status.idle": "2021-08-17T19:15:47.225585Z",
     "shell.execute_reply": "2021-08-17T19:15:47.225005Z",
     "shell.execute_reply.started": "2021-08-17T18:45:18.259239Z"
    },
    "papermill": {
     "duration": 0.037317,
     "end_time": "2021-08-17T19:15:47.225722",
     "exception": false,
     "start_time": "2021-08-17T19:15:47.188405",
     "status": "completed"
    },
    "tags": []
   },
   "outputs": [],
   "source": [
    "#step_1.b.hint()"
   ]
  },
  {
   "cell_type": "markdown",
   "id": "4b99c401",
   "metadata": {
    "papermill": {
     "duration": 0.030912,
     "end_time": "2021-08-17T19:15:47.287820",
     "exception": false,
     "start_time": "2021-08-17T19:15:47.256908",
     "status": "completed"
    },
    "tags": []
   },
   "source": [
    "To compare different approaches to dealing with missing values, you'll use the same `score_dataset()` function from the tutorial.  This function reports the [mean absolute error](https://en.wikipedia.org/wiki/Mean_absolute_error) (MAE) from a random forest model."
   ]
  },
  {
   "cell_type": "code",
   "execution_count": 9,
   "id": "75ef78e9",
   "metadata": {
    "execution": {
     "iopub.execute_input": "2021-08-17T19:15:47.356596Z",
     "iopub.status.busy": "2021-08-17T19:15:47.355863Z",
     "iopub.status.idle": "2021-08-17T19:15:47.552589Z",
     "shell.execute_reply": "2021-08-17T19:15:47.551949Z",
     "shell.execute_reply.started": "2021-08-17T18:45:39.982457Z"
    },
    "papermill": {
     "duration": 0.23373,
     "end_time": "2021-08-17T19:15:47.552756",
     "exception": false,
     "start_time": "2021-08-17T19:15:47.319026",
     "status": "completed"
    },
    "tags": []
   },
   "outputs": [],
   "source": [
    "from sklearn.ensemble import RandomForestRegressor\n",
    "from sklearn.metrics import mean_absolute_error\n",
    "\n",
    "# Function for comparing different approaches\n",
    "def score_dataset(X_train, X_valid, y_train, y_valid):\n",
    "    model = RandomForestRegressor(n_estimators=100, random_state=0)\n",
    "    model.fit(X_train, y_train)\n",
    "    preds = model.predict(X_valid)\n",
    "    return mean_absolute_error(y_valid, preds)"
   ]
  },
  {
   "cell_type": "markdown",
   "id": "80fd136c",
   "metadata": {
    "papermill": {
     "duration": 0.031018,
     "end_time": "2021-08-17T19:15:47.615921",
     "exception": false,
     "start_time": "2021-08-17T19:15:47.584903",
     "status": "completed"
    },
    "tags": []
   },
   "source": [
    "# Step 2: Drop columns with missing values\n",
    "\n",
    "In this step, you'll preprocess the data in `X_train` and `X_valid` to remove columns with missing values.  Set the preprocessed DataFrames to `reduced_X_train` and `reduced_X_valid`, respectively.  "
   ]
  },
  {
   "cell_type": "code",
   "execution_count": 10,
   "id": "b964a304",
   "metadata": {
    "execution": {
     "iopub.execute_input": "2021-08-17T19:15:47.694172Z",
     "iopub.status.busy": "2021-08-17T19:15:47.693151Z",
     "iopub.status.idle": "2021-08-17T19:15:47.712020Z",
     "shell.execute_reply": "2021-08-17T19:15:47.712475Z",
     "shell.execute_reply.started": "2021-08-17T18:50:19.035401Z"
    },
    "papermill": {
     "duration": 0.065108,
     "end_time": "2021-08-17T19:15:47.712640",
     "exception": false,
     "start_time": "2021-08-17T19:15:47.647532",
     "status": "completed"
    },
    "tags": []
   },
   "outputs": [
    {
     "data": {
      "application/javascript": [
       "parent.postMessage({\"jupyterEvent\": \"custom.exercise_interaction\", \"data\": {\"outcomeType\": 1, \"valueTowardsCompletion\": 1.0, \"interactionType\": 1, \"questionType\": 2, \"questionId\": \"2_DropMissing\", \"learnToolsVersion\": \"0.3.4\", \"failureMessage\": \"\", \"exceptionClass\": \"\", \"trace\": \"\"}}, \"*\")"
      ],
      "text/plain": [
       "<IPython.core.display.Javascript object>"
      ]
     },
     "metadata": {},
     "output_type": "display_data"
    },
    {
     "data": {
      "text/markdown": [
       "<span style=\"color:#33cc33\">Correct</span>"
      ],
      "text/plain": [
       "Correct"
      ]
     },
     "metadata": {},
     "output_type": "display_data"
    }
   ],
   "source": [
    "# Fill in the line below: get names of columns with missing values\n",
    "\n",
    "cols_with_missing = [col for col in X_train.columns if X_train[col].isnull().any()]\n",
    "\n",
    "\n",
    "# Your code here\n",
    "\n",
    "# Fill in the lines below: drop columns in training and validation data\n",
    "reduced_X_train = X_train.drop(cols_with_missing, axis=1)\n",
    "reduced_X_valid = X_valid.drop(cols_with_missing, axis=1)\n",
    "\n",
    "# Check your answers\n",
    "step_2.check()"
   ]
  },
  {
   "cell_type": "code",
   "execution_count": 11,
   "id": "9e902cca",
   "metadata": {
    "execution": {
     "iopub.execute_input": "2021-08-17T19:15:47.781083Z",
     "iopub.status.busy": "2021-08-17T19:15:47.780279Z",
     "iopub.status.idle": "2021-08-17T19:15:47.783102Z",
     "shell.execute_reply": "2021-08-17T19:15:47.782583Z",
     "shell.execute_reply.started": "2021-08-17T18:51:10.772456Z"
    },
    "papermill": {
     "duration": 0.038643,
     "end_time": "2021-08-17T19:15:47.783234",
     "exception": false,
     "start_time": "2021-08-17T19:15:47.744591",
     "status": "completed"
    },
    "tags": []
   },
   "outputs": [],
   "source": [
    "# Lines below will give you a hint or solution code\n",
    "#step_2.hint()\n",
    "#step_2.solution()"
   ]
  },
  {
   "cell_type": "markdown",
   "id": "3b3a5b89",
   "metadata": {
    "papermill": {
     "duration": 0.032345,
     "end_time": "2021-08-17T19:15:47.848133",
     "exception": false,
     "start_time": "2021-08-17T19:15:47.815788",
     "status": "completed"
    },
    "tags": []
   },
   "source": [
    "Run the next code cell without changes to obtain the MAE for this approach."
   ]
  },
  {
   "cell_type": "code",
   "execution_count": 12,
   "id": "7ee6dc3b",
   "metadata": {
    "execution": {
     "iopub.execute_input": "2021-08-17T19:15:47.919706Z",
     "iopub.status.busy": "2021-08-17T19:15:47.919056Z",
     "iopub.status.idle": "2021-08-17T19:15:49.171700Z",
     "shell.execute_reply": "2021-08-17T19:15:49.171108Z",
     "shell.execute_reply.started": "2021-08-17T18:51:25.942879Z"
    },
    "papermill": {
     "duration": 1.291157,
     "end_time": "2021-08-17T19:15:49.171858",
     "exception": false,
     "start_time": "2021-08-17T19:15:47.880701",
     "status": "completed"
    },
    "tags": []
   },
   "outputs": [
    {
     "name": "stdout",
     "output_type": "stream",
     "text": [
      "MAE (Drop columns with missing values):\n",
      "17837.82570776256\n"
     ]
    }
   ],
   "source": [
    "print(\"MAE (Drop columns with missing values):\")\n",
    "print(score_dataset(reduced_X_train, reduced_X_valid, y_train, y_valid))"
   ]
  },
  {
   "cell_type": "markdown",
   "id": "363ee2f4",
   "metadata": {
    "papermill": {
     "duration": 0.032374,
     "end_time": "2021-08-17T19:15:49.237134",
     "exception": false,
     "start_time": "2021-08-17T19:15:49.204760",
     "status": "completed"
    },
    "tags": []
   },
   "source": [
    "# Step 3: Imputation\n",
    "\n",
    "### Part A\n",
    "\n",
    "Use the next code cell to impute missing values with the mean value along each column.  Set the preprocessed DataFrames to `imputed_X_train` and `imputed_X_valid`.  Make sure that the column names match those in `X_train` and `X_valid`."
   ]
  },
  {
   "cell_type": "code",
   "execution_count": 13,
   "id": "210fee57",
   "metadata": {
    "execution": {
     "iopub.execute_input": "2021-08-17T19:15:49.310458Z",
     "iopub.status.busy": "2021-08-17T19:15:49.309646Z",
     "iopub.status.idle": "2021-08-17T19:15:49.344217Z",
     "shell.execute_reply": "2021-08-17T19:15:49.343677Z",
     "shell.execute_reply.started": "2021-08-17T19:00:17.206438Z"
    },
    "papermill": {
     "duration": 0.073179,
     "end_time": "2021-08-17T19:15:49.344386",
     "exception": false,
     "start_time": "2021-08-17T19:15:49.271207",
     "status": "completed"
    },
    "tags": []
   },
   "outputs": [
    {
     "data": {
      "application/javascript": [
       "parent.postMessage({\"jupyterEvent\": \"custom.exercise_interaction\", \"data\": {\"outcomeType\": 1, \"valueTowardsCompletion\": 1.0, \"interactionType\": 1, \"questionType\": 2, \"questionId\": \"3.1_ImputeCode\", \"learnToolsVersion\": \"0.3.4\", \"failureMessage\": \"\", \"exceptionClass\": \"\", \"trace\": \"\"}}, \"*\")"
      ],
      "text/plain": [
       "<IPython.core.display.Javascript object>"
      ]
     },
     "metadata": {},
     "output_type": "display_data"
    },
    {
     "data": {
      "text/markdown": [
       "<span style=\"color:#33cc33\">Correct</span>"
      ],
      "text/plain": [
       "Correct"
      ]
     },
     "metadata": {},
     "output_type": "display_data"
    }
   ],
   "source": [
    "from sklearn.impute import SimpleImputer\n",
    "\n",
    "# Fill in the lines below: imputation\n",
    "____ \n",
    "\n",
    "my_imputer = SimpleImputer()\n",
    "\n",
    "# Your code here\n",
    "imputed_X_train = pd.DataFrame(my_imputer.fit_transform(X_train))\n",
    "imputed_X_valid = pd.DataFrame(my_imputer.transform(X_valid))\n",
    "\n",
    "# Fill in the lines below: imputation removed column names; put them back\n",
    "imputed_X_train.columns = X_train.columns\n",
    "imputed_X_valid.columns = X_valid.columns\n",
    "\n",
    "# Check your answers\n",
    "step_3.a.check()"
   ]
  },
  {
   "cell_type": "code",
   "execution_count": 14,
   "id": "6f774cfd",
   "metadata": {
    "execution": {
     "iopub.execute_input": "2021-08-17T19:15:49.417504Z",
     "iopub.status.busy": "2021-08-17T19:15:49.416493Z",
     "iopub.status.idle": "2021-08-17T19:15:49.419516Z",
     "shell.execute_reply": "2021-08-17T19:15:49.418910Z"
    },
    "papermill": {
     "duration": 0.040724,
     "end_time": "2021-08-17T19:15:49.419651",
     "exception": false,
     "start_time": "2021-08-17T19:15:49.378927",
     "status": "completed"
    },
    "tags": []
   },
   "outputs": [],
   "source": [
    "# Lines below will give you a hint or solution code\n",
    "#step_3.a.hint()\n",
    "#step_3.a.solution()"
   ]
  },
  {
   "cell_type": "markdown",
   "id": "75ffa8c7",
   "metadata": {
    "papermill": {
     "duration": 0.033314,
     "end_time": "2021-08-17T19:15:49.486699",
     "exception": false,
     "start_time": "2021-08-17T19:15:49.453385",
     "status": "completed"
    },
    "tags": []
   },
   "source": [
    "Run the next code cell without changes to obtain the MAE for this approach."
   ]
  },
  {
   "cell_type": "code",
   "execution_count": 15,
   "id": "1afbde33",
   "metadata": {
    "execution": {
     "iopub.execute_input": "2021-08-17T19:15:49.568483Z",
     "iopub.status.busy": "2021-08-17T19:15:49.561808Z",
     "iopub.status.idle": "2021-08-17T19:15:50.931249Z",
     "shell.execute_reply": "2021-08-17T19:15:50.931753Z",
     "shell.execute_reply.started": "2021-08-17T19:00:29.116103Z"
    },
    "papermill": {
     "duration": 1.410559,
     "end_time": "2021-08-17T19:15:50.931935",
     "exception": false,
     "start_time": "2021-08-17T19:15:49.521376",
     "status": "completed"
    },
    "tags": []
   },
   "outputs": [
    {
     "name": "stdout",
     "output_type": "stream",
     "text": [
      "MAE (Imputation):\n",
      "18062.894611872147\n"
     ]
    }
   ],
   "source": [
    "print(\"MAE (Imputation):\")\n",
    "print(score_dataset(imputed_X_train, imputed_X_valid, y_train, y_valid))"
   ]
  },
  {
   "cell_type": "markdown",
   "id": "a69e03e6",
   "metadata": {
    "papermill": {
     "duration": 0.034127,
     "end_time": "2021-08-17T19:15:51.000863",
     "exception": false,
     "start_time": "2021-08-17T19:15:50.966736",
     "status": "completed"
    },
    "tags": []
   },
   "source": [
    "### Part B\n",
    "\n",
    "Compare the MAE from each approach.  Does anything surprise you about the results?  Why do you think one approach performed better than the other?"
   ]
  },
  {
   "cell_type": "code",
   "execution_count": 16,
   "id": "7439e815",
   "metadata": {
    "execution": {
     "iopub.execute_input": "2021-08-17T19:15:51.074941Z",
     "iopub.status.busy": "2021-08-17T19:15:51.074248Z",
     "iopub.status.idle": "2021-08-17T19:15:51.078921Z",
     "shell.execute_reply": "2021-08-17T19:15:51.079446Z",
     "shell.execute_reply.started": "2021-08-17T19:00:50.022639Z"
    },
    "papermill": {
     "duration": 0.044418,
     "end_time": "2021-08-17T19:15:51.079619",
     "exception": false,
     "start_time": "2021-08-17T19:15:51.035201",
     "status": "completed"
    },
    "tags": []
   },
   "outputs": [
    {
     "data": {
      "application/javascript": [
       "parent.postMessage({\"jupyterEvent\": \"custom.exercise_interaction\", \"data\": {\"outcomeType\": 1, \"valueTowardsCompletion\": 1.0, \"interactionType\": 1, \"questionType\": 4, \"questionId\": \"3.2_ImputeThought\", \"learnToolsVersion\": \"0.3.4\", \"failureMessage\": \"\", \"exceptionClass\": \"\", \"trace\": \"\"}}, \"*\")"
      ],
      "text/plain": [
       "<IPython.core.display.Javascript object>"
      ]
     },
     "metadata": {},
     "output_type": "display_data"
    },
    {
     "data": {
      "text/markdown": [
       "<span style=\"color:#33cc33\">Correct:</span> \n",
       "\n",
       "Given that thre are so few missing values in the dataset, we'd expect imputation to perform better than dropping columns entirely.  However, we see that dropping columns performs slightly better!  While this can probably partially be attributed to noise in the dataset, another potential explanation is that the imputation method is not a great match to this dataset.  That is, maybe instead of filling in the mean value, it makes more sense to set every missing value to a value of 0, to fill in the most frequently encountered value, or to use some other method.  For instance, consider the `GarageYrBlt` column (which indicates the year that the garage was built).  It's likely that in some cases, a missing value could indicate a house that does not have a garage.  Does it make more sense to fill in the median value along each column in this case?  Or could we get better results by filling in the minimum value along each column?  It's not quite clear what's best in this case, but perhaps we can rule out some options immediately - for instance, setting missing values in this column to 0 is likely to yield horrible results!"
      ],
      "text/plain": [
       "Correct: \n",
       "\n",
       "Given that thre are so few missing values in the dataset, we'd expect imputation to perform better than dropping columns entirely.  However, we see that dropping columns performs slightly better!  While this can probably partially be attributed to noise in the dataset, another potential explanation is that the imputation method is not a great match to this dataset.  That is, maybe instead of filling in the mean value, it makes more sense to set every missing value to a value of 0, to fill in the most frequently encountered value, or to use some other method.  For instance, consider the `GarageYrBlt` column (which indicates the year that the garage was built).  It's likely that in some cases, a missing value could indicate a house that does not have a garage.  Does it make more sense to fill in the median value along each column in this case?  Or could we get better results by filling in the minimum value along each column?  It's not quite clear what's best in this case, but perhaps we can rule out some options immediately - for instance, setting missing values in this column to 0 is likely to yield horrible results!"
      ]
     },
     "metadata": {},
     "output_type": "display_data"
    }
   ],
   "source": [
    "# Check your answer (Run this code cell to receive credit!)\n",
    "step_3.b.check()"
   ]
  },
  {
   "cell_type": "code",
   "execution_count": 17,
   "id": "4d1a4f56",
   "metadata": {
    "execution": {
     "iopub.execute_input": "2021-08-17T19:15:51.153500Z",
     "iopub.status.busy": "2021-08-17T19:15:51.152872Z",
     "iopub.status.idle": "2021-08-17T19:15:51.156132Z",
     "shell.execute_reply": "2021-08-17T19:15:51.156666Z",
     "shell.execute_reply.started": "2021-08-17T19:01:56.750790Z"
    },
    "papermill": {
     "duration": 0.041851,
     "end_time": "2021-08-17T19:15:51.156831",
     "exception": false,
     "start_time": "2021-08-17T19:15:51.114980",
     "status": "completed"
    },
    "tags": []
   },
   "outputs": [],
   "source": [
    "#step_3.b.hint()"
   ]
  },
  {
   "cell_type": "markdown",
   "id": "014239bc",
   "metadata": {
    "papermill": {
     "duration": 0.035001,
     "end_time": "2021-08-17T19:15:51.227392",
     "exception": false,
     "start_time": "2021-08-17T19:15:51.192391",
     "status": "completed"
    },
    "tags": []
   },
   "source": [
    "# Step 4: Generate test predictions\n",
    "\n",
    "In this final step, you'll use any approach of your choosing to deal with missing values.  Once you've preprocessed the training and validation features, you'll train and evaluate a random forest model.  Then, you'll preprocess the test data before generating predictions that can be submitted to the competition!\n",
    "\n",
    "### Part A\n",
    "\n",
    "Use the next code cell to preprocess the training and validation data.  Set the preprocessed DataFrames to `final_X_train` and `final_X_valid`.  **You can use any approach of your choosing here!**  in order for this step to be marked as correct, you need only ensure:\n",
    "- the preprocessed DataFrames have the same number of columns,\n",
    "- the preprocessed DataFrames have no missing values, \n",
    "- `final_X_train` and `y_train` have the same number of rows, and\n",
    "- `final_X_valid` and `y_valid` have the same number of rows."
   ]
  },
  {
   "cell_type": "code",
   "execution_count": 18,
   "id": "0e329ac5",
   "metadata": {
    "execution": {
     "iopub.execute_input": "2021-08-17T19:15:51.301756Z",
     "iopub.status.busy": "2021-08-17T19:15:51.301075Z",
     "iopub.status.idle": "2021-08-17T19:15:51.331891Z",
     "shell.execute_reply": "2021-08-17T19:15:51.332365Z",
     "shell.execute_reply.started": "2021-08-17T19:15:12.456696Z"
    },
    "papermill": {
     "duration": 0.069808,
     "end_time": "2021-08-17T19:15:51.332543",
     "exception": false,
     "start_time": "2021-08-17T19:15:51.262735",
     "status": "completed"
    },
    "tags": []
   },
   "outputs": [
    {
     "data": {
      "application/javascript": [
       "parent.postMessage({\"jupyterEvent\": \"custom.exercise_interaction\", \"data\": {\"outcomeType\": 1, \"valueTowardsCompletion\": 1.0, \"interactionType\": 1, \"questionType\": 2, \"questionId\": \"4.1_PredsCodeA\", \"learnToolsVersion\": \"0.3.4\", \"failureMessage\": \"\", \"exceptionClass\": \"\", \"trace\": \"\"}}, \"*\")"
      ],
      "text/plain": [
       "<IPython.core.display.Javascript object>"
      ]
     },
     "metadata": {},
     "output_type": "display_data"
    },
    {
     "data": {
      "text/markdown": [
       "<span style=\"color:#33cc33\">Correct</span>"
      ],
      "text/plain": [
       "Correct"
      ]
     },
     "metadata": {},
     "output_type": "display_data"
    }
   ],
   "source": [
    "# Preprocessed training and validation features\n",
    "# Imputation\n",
    "final_imputer = SimpleImputer(strategy='median')\n",
    "final_X_train = pd.DataFrame(final_imputer.fit_transform(X_train))\n",
    "final_X_valid = pd.DataFrame(final_imputer.transform(X_valid))\n",
    "\n",
    "# Imputation removed column names; put them back\n",
    "final_X_train.columns = X_train.columns\n",
    "final_X_valid.columns = X_valid.columns\n",
    "\n",
    "# Check your answers\n",
    "step_4.a.check()"
   ]
  },
  {
   "cell_type": "code",
   "execution_count": 19,
   "id": "f19b7d33",
   "metadata": {
    "execution": {
     "iopub.execute_input": "2021-08-17T19:15:51.408483Z",
     "iopub.status.busy": "2021-08-17T19:15:51.407826Z",
     "iopub.status.idle": "2021-08-17T19:15:51.416190Z",
     "shell.execute_reply": "2021-08-17T19:15:51.416682Z",
     "shell.execute_reply.started": "2021-08-17T19:15:13.164421Z"
    },
    "papermill": {
     "duration": 0.047996,
     "end_time": "2021-08-17T19:15:51.416851",
     "exception": false,
     "start_time": "2021-08-17T19:15:51.368855",
     "status": "completed"
    },
    "tags": []
   },
   "outputs": [
    {
     "data": {
      "application/javascript": [
       "parent.postMessage({\"jupyterEvent\": \"custom.exercise_interaction\", \"data\": {\"interactionType\": 2, \"questionType\": 2, \"questionId\": \"4.1_PredsCodeA\", \"learnToolsVersion\": \"0.3.4\", \"valueTowardsCompletion\": 0.0, \"failureMessage\": \"\", \"exceptionClass\": \"\", \"trace\": \"\", \"outcomeType\": 4}}, \"*\")"
      ],
      "text/plain": [
       "<IPython.core.display.Javascript object>"
      ]
     },
     "metadata": {},
     "output_type": "display_data"
    },
    {
     "data": {
      "text/markdown": [
       "<span style=\"color:#3366cc\">Hint:</span> Use any approach of your choosing to deal with missing values in the data.  For inspiration, check out the code from the tutorial!"
      ],
      "text/plain": [
       "Hint: Use any approach of your choosing to deal with missing values in the data.  For inspiration, check out the code from the tutorial!"
      ]
     },
     "metadata": {},
     "output_type": "display_data"
    },
    {
     "data": {
      "application/javascript": [
       "parent.postMessage({\"jupyterEvent\": \"custom.exercise_interaction\", \"data\": {\"interactionType\": 3, \"questionType\": 2, \"questionId\": \"4.1_PredsCodeA\", \"learnToolsVersion\": \"0.3.4\", \"valueTowardsCompletion\": 0.0, \"failureMessage\": \"\", \"exceptionClass\": \"\", \"trace\": \"\", \"outcomeType\": 4}}, \"*\")"
      ],
      "text/plain": [
       "<IPython.core.display.Javascript object>"
      ]
     },
     "metadata": {},
     "output_type": "display_data"
    },
    {
     "data": {
      "text/markdown": [
       "<span style=\"color:#33cc99\">Solution:</span> \n",
       "```python\n",
       "# Imputation\n",
       "final_imputer = SimpleImputer(strategy='median')\n",
       "final_X_train = pd.DataFrame(final_imputer.fit_transform(X_train))\n",
       "final_X_valid = pd.DataFrame(final_imputer.transform(X_valid))\n",
       "\n",
       "# Imputation removed column names; put them back\n",
       "final_X_train.columns = X_train.columns\n",
       "final_X_valid.columns = X_valid.columns\n",
       "\n",
       "```"
      ],
      "text/plain": [
       "Solution: \n",
       "```python\n",
       "# Imputation\n",
       "final_imputer = SimpleImputer(strategy='median')\n",
       "final_X_train = pd.DataFrame(final_imputer.fit_transform(X_train))\n",
       "final_X_valid = pd.DataFrame(final_imputer.transform(X_valid))\n",
       "\n",
       "# Imputation removed column names; put them back\n",
       "final_X_train.columns = X_train.columns\n",
       "final_X_valid.columns = X_valid.columns\n",
       "\n",
       "```"
      ]
     },
     "metadata": {},
     "output_type": "display_data"
    }
   ],
   "source": [
    "# Lines below will give you a hint or solution code\n",
    "step_4.a.hint()\n",
    "step_4.a.solution()"
   ]
  },
  {
   "cell_type": "markdown",
   "id": "94658f26",
   "metadata": {
    "papermill": {
     "duration": 0.037799,
     "end_time": "2021-08-17T19:15:51.493017",
     "exception": false,
     "start_time": "2021-08-17T19:15:51.455218",
     "status": "completed"
    },
    "tags": []
   },
   "source": [
    "Run the next code cell to train and evaluate a random forest model.  (*Note that we don't use the `score_dataset()` function above, because we will soon use the trained model to generate test predictions!*)"
   ]
  },
  {
   "cell_type": "code",
   "execution_count": 20,
   "id": "7f3d2598",
   "metadata": {
    "execution": {
     "iopub.execute_input": "2021-08-17T19:15:51.574132Z",
     "iopub.status.busy": "2021-08-17T19:15:51.573459Z",
     "iopub.status.idle": "2021-08-17T19:15:52.952719Z",
     "shell.execute_reply": "2021-08-17T19:15:52.952151Z",
     "shell.execute_reply.started": "2021-08-17T19:15:14.714476Z"
    },
    "papermill": {
     "duration": 1.420278,
     "end_time": "2021-08-17T19:15:52.952870",
     "exception": false,
     "start_time": "2021-08-17T19:15:51.532592",
     "status": "completed"
    },
    "tags": []
   },
   "outputs": [
    {
     "name": "stdout",
     "output_type": "stream",
     "text": [
      "MAE (Your approach):\n",
      "17791.59899543379\n"
     ]
    }
   ],
   "source": [
    "# Define and fit model\n",
    "model = RandomForestRegressor(n_estimators=100, random_state=0)\n",
    "model.fit(final_X_train, y_train)\n",
    "\n",
    "# Get validation predictions and MAE\n",
    "preds_valid = model.predict(final_X_valid)\n",
    "print(\"MAE (Your approach):\")\n",
    "print(mean_absolute_error(y_valid, preds_valid))"
   ]
  },
  {
   "cell_type": "markdown",
   "id": "d10cae58",
   "metadata": {
    "papermill": {
     "duration": 0.038226,
     "end_time": "2021-08-17T19:15:53.029862",
     "exception": false,
     "start_time": "2021-08-17T19:15:52.991636",
     "status": "completed"
    },
    "tags": []
   },
   "source": [
    "### Part B\n",
    "\n",
    "Use the next code cell to preprocess your test data.  Make sure that you use a method that agrees with how you preprocessed the training and validation data, and set the preprocessed test features to `final_X_test`.\n",
    "\n",
    "Then, use the preprocessed test features and the trained model to generate test predictions in `preds_test`.\n",
    "\n",
    "In order for this step to be marked correct, you need only ensure:\n",
    "- the preprocessed test DataFrame has no missing values, and\n",
    "- `final_X_test` has the same number of rows as `X_test`."
   ]
  },
  {
   "cell_type": "code",
   "execution_count": 21,
   "id": "cddcecf8",
   "metadata": {
    "execution": {
     "iopub.execute_input": "2021-08-17T19:15:53.115505Z",
     "iopub.status.busy": "2021-08-17T19:15:53.114801Z",
     "iopub.status.idle": "2021-08-17T19:15:53.161379Z",
     "shell.execute_reply": "2021-08-17T19:15:53.160869Z",
     "shell.execute_reply.started": "2021-08-17T19:15:17.958600Z"
    },
    "papermill": {
     "duration": 0.092242,
     "end_time": "2021-08-17T19:15:53.161520",
     "exception": false,
     "start_time": "2021-08-17T19:15:53.069278",
     "status": "completed"
    },
    "tags": []
   },
   "outputs": [
    {
     "data": {
      "application/javascript": [
       "parent.postMessage({\"jupyterEvent\": \"custom.exercise_interaction\", \"data\": {\"outcomeType\": 1, \"valueTowardsCompletion\": 1.0, \"interactionType\": 1, \"questionType\": 2, \"questionId\": \"4.2_PredsCodeB\", \"learnToolsVersion\": \"0.3.4\", \"failureMessage\": \"\", \"exceptionClass\": \"\", \"trace\": \"\"}}, \"*\")"
      ],
      "text/plain": [
       "<IPython.core.display.Javascript object>"
      ]
     },
     "metadata": {},
     "output_type": "display_data"
    },
    {
     "data": {
      "text/markdown": [
       "<span style=\"color:#33cc33\">Correct</span>"
      ],
      "text/plain": [
       "Correct"
      ]
     },
     "metadata": {},
     "output_type": "display_data"
    }
   ],
   "source": [
    "# Fill in the line below: preprocess test data\n",
    "final_X_test = pd.DataFrame(final_imputer.transform(X_test))\n",
    "\n",
    "# Fill in the line below: get test predictions\n",
    "preds_test = model.predict(final_X_test)\n",
    "\n",
    "# Check your answers\n",
    "step_4.b.check()"
   ]
  },
  {
   "cell_type": "code",
   "execution_count": 22,
   "id": "418a822a",
   "metadata": {
    "execution": {
     "iopub.execute_input": "2021-08-17T19:15:53.244983Z",
     "iopub.status.busy": "2021-08-17T19:15:53.244252Z",
     "iopub.status.idle": "2021-08-17T19:15:53.247407Z",
     "shell.execute_reply": "2021-08-17T19:15:53.246889Z",
     "shell.execute_reply.started": "2021-08-17T19:15:18.770161Z"
    },
    "papermill": {
     "duration": 0.046506,
     "end_time": "2021-08-17T19:15:53.247553",
     "exception": false,
     "start_time": "2021-08-17T19:15:53.201047",
     "status": "completed"
    },
    "tags": []
   },
   "outputs": [],
   "source": [
    "# Lines below will give you a hint or solution code\n",
    "#step_4.b.hint()\n",
    "#step_4.b.solution()"
   ]
  },
  {
   "cell_type": "markdown",
   "id": "3fe63db6",
   "metadata": {
    "papermill": {
     "duration": 0.039201,
     "end_time": "2021-08-17T19:15:53.327573",
     "exception": false,
     "start_time": "2021-08-17T19:15:53.288372",
     "status": "completed"
    },
    "tags": []
   },
   "source": [
    "Run the next code cell without changes to save your results to a CSV file that can be submitted directly to the competition."
   ]
  },
  {
   "cell_type": "code",
   "execution_count": 23,
   "id": "41734794",
   "metadata": {
    "execution": {
     "iopub.execute_input": "2021-08-17T19:15:53.413996Z",
     "iopub.status.busy": "2021-08-17T19:15:53.412986Z",
     "iopub.status.idle": "2021-08-17T19:15:53.423713Z",
     "shell.execute_reply": "2021-08-17T19:15:53.423130Z",
     "shell.execute_reply.started": "2021-08-17T19:15:20.497898Z"
    },
    "papermill": {
     "duration": 0.056671,
     "end_time": "2021-08-17T19:15:53.423861",
     "exception": false,
     "start_time": "2021-08-17T19:15:53.367190",
     "status": "completed"
    },
    "tags": []
   },
   "outputs": [],
   "source": [
    "# Save test predictions to file\n",
    "output = pd.DataFrame({'Id': X_test.index,\n",
    "                       'SalePrice': preds_test})\n",
    "output.to_csv('submission.csv', index=False)"
   ]
  },
  {
   "cell_type": "markdown",
   "id": "954b8f0f",
   "metadata": {
    "papermill": {
     "duration": 0.038996,
     "end_time": "2021-08-17T19:15:53.502445",
     "exception": false,
     "start_time": "2021-08-17T19:15:53.463449",
     "status": "completed"
    },
    "tags": []
   },
   "source": [
    "# Submit your results\n",
    "\n",
    "Once you have successfully completed Step 4, you're ready to submit your results to the leaderboard!  (_You also learned how to do this in the previous exercise.  If you need a reminder of how to do this, please use the instructions below._)  \n",
    "\n",
    "First, you'll need to join the competition if you haven't already.  So open a new window by clicking on [this link](https://www.kaggle.com/c/home-data-for-ml-course).  Then click on the **Join Competition** button.\n",
    "\n",
    "![join competition image](https://i.imgur.com/wLmFtH3.png)\n",
    "\n",
    "Next, follow the instructions below:\n",
    "1. Begin by clicking on the blue **Save Version** button in the top right corner of the window.  This will generate a pop-up window.  \n",
    "2. Ensure that the **Save and Run All** option is selected, and then click on the blue **Save** button.\n",
    "3. This generates a window in the bottom left corner of the notebook.  After it has finished running, click on the number to the right of the **Save Version** button.  This pulls up a list of versions on the right of the screen.  Click on the ellipsis **(...)** to the right of the most recent version, and select **Open in Viewer**.  This brings you into view mode of the same page. You will need to scroll down to get back to these instructions.\n",
    "4. Click on the **Output** tab on the right of the screen.  Then, click on the file you would like to submit, and click on the blue **Submit** button to submit your results to the leaderboard.\n",
    "\n",
    "You have now successfully submitted to the competition!\n",
    "\n",
    "If you want to keep working to improve your performance, select the blue **Edit** button in the top right of the screen. Then you can change your code and repeat the process. There's a lot of room to improve, and you will climb up the leaderboard as you work.\n",
    "\n",
    "\n",
    "# Keep going\n",
    "\n",
    "Move on to learn what **[categorical variables](https://www.kaggle.com/alexisbcook/categorical-variables)** are, along with how to incorporate them into your machine learning models.  Categorical variables are very common in real-world data, but you'll get an error if you try to plug them into your models without processing them first!"
   ]
  },
  {
   "cell_type": "markdown",
   "id": "955a05ac",
   "metadata": {
    "papermill": {
     "duration": 0.039069,
     "end_time": "2021-08-17T19:15:53.582156",
     "exception": false,
     "start_time": "2021-08-17T19:15:53.543087",
     "status": "completed"
    },
    "tags": []
   },
   "source": [
    "---\n",
    "\n",
    "\n",
    "\n",
    "\n",
    "*Have questions or comments? Visit the [Learn Discussion forum](https://www.kaggle.com/learn-forum/161289) to chat with other Learners.*"
   ]
  }
 ],
 "metadata": {
  "kernelspec": {
   "display_name": "Python 3",
   "language": "python",
   "name": "python3"
  },
  "language_info": {
   "codemirror_mode": {
    "name": "ipython",
    "version": 3
   },
   "file_extension": ".py",
   "mimetype": "text/x-python",
   "name": "python",
   "nbconvert_exporter": "python",
   "pygments_lexer": "ipython3",
   "version": "3.7.10"
  },
  "papermill": {
   "default_parameters": {},
   "duration": 17.642259,
   "end_time": "2021-08-17T19:15:54.331715",
   "environment_variables": {},
   "exception": null,
   "input_path": "__notebook__.ipynb",
   "output_path": "__notebook__.ipynb",
   "parameters": {},
   "start_time": "2021-08-17T19:15:36.689456",
   "version": "2.3.3"
  }
 },
 "nbformat": 4,
 "nbformat_minor": 5
}
