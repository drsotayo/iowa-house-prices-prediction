{
 "cells": [
  {
   "cell_type": "markdown",
   "metadata": {
    "papermill": {
     "duration": 0.018042,
     "end_time": "2021-08-16T22:39:57.632366",
     "exception": false,
     "start_time": "2021-08-16T22:39:57.614324",
     "status": "completed"
    },
    "tags": []
   },
   "source": [
    "**This notebook is an exercise in the [Introduction to Machine Learning](https://www.kaggle.com/learn/intro-to-machine-learning) course.  You can reference the tutorial at [this link](https://www.kaggle.com/dansbecker/model-validation).**\n",
    "\n",
    "---\n"
   ]
  },
  {
   "cell_type": "markdown",
   "metadata": {
    "papermill": {
     "duration": 0.017423,
     "end_time": "2021-08-16T22:39:57.670452",
     "exception": false,
     "start_time": "2021-08-16T22:39:57.653029",
     "status": "completed"
    },
    "tags": []
   },
   "source": [
    "## Recap\n",
    "You've built a model. In this exercise you will test how good your model is.\n",
    "\n",
    "Run the cell below to set up your coding environment where the previous exercise left off."
   ]
  },
  {
   "cell_type": "code",
   "execution_count": 1,
   "metadata": {
    "execution": {
     "iopub.execute_input": "2021-08-16T22:39:57.705000Z",
     "iopub.status.busy": "2021-08-16T22:39:57.703825Z",
     "iopub.status.idle": "2021-08-16T22:39:59.128057Z",
     "shell.execute_reply": "2021-08-16T22:39:59.128687Z",
     "shell.execute_reply.started": "2021-08-16T22:34:30.760204Z"
    },
    "papermill": {
     "duration": 1.442685,
     "end_time": "2021-08-16T22:39:59.129007",
     "exception": false,
     "start_time": "2021-08-16T22:39:57.686322",
     "status": "completed"
    },
    "tags": []
   },
   "outputs": [
    {
     "name": "stdout",
     "output_type": "stream",
     "text": [
      "First in-sample predictions: [208500. 181500. 223500. 140000. 250000.]\n",
      "Actual target values for those homes: [208500, 181500, 223500, 140000, 250000]\n",
      "Setup Complete\n"
     ]
    }
   ],
   "source": [
    "# Code you have previously used to load data\n",
    "import pandas as pd\n",
    "from sklearn.tree import DecisionTreeRegressor\n",
    "\n",
    "# Path of the file to read\n",
    "iowa_file_path = '../input/home-data-for-ml-course/train.csv'\n",
    "\n",
    "home_data = pd.read_csv(iowa_file_path)\n",
    "y = home_data.SalePrice\n",
    "feature_columns = ['LotArea', 'YearBuilt', '1stFlrSF', '2ndFlrSF', 'FullBath', 'BedroomAbvGr', 'TotRmsAbvGrd']\n",
    "X = home_data[feature_columns]\n",
    "\n",
    "# Specify Model\n",
    "iowa_model = DecisionTreeRegressor()\n",
    "# Fit Model\n",
    "iowa_model.fit(X, y)\n",
    "\n",
    "print(\"First in-sample predictions:\", iowa_model.predict(X.head()))\n",
    "print(\"Actual target values for those homes:\", y.head().tolist())\n",
    "\n",
    "# Set up code checking\n",
    "from learntools.core import binder\n",
    "binder.bind(globals())\n",
    "from learntools.machine_learning.ex4 import *\n",
    "print(\"Setup Complete\")"
   ]
  },
  {
   "cell_type": "code",
   "execution_count": 2,
   "metadata": {
    "execution": {
     "iopub.execute_input": "2021-08-16T22:39:59.165792Z",
     "iopub.status.busy": "2021-08-16T22:39:59.163858Z",
     "iopub.status.idle": "2021-08-16T22:39:59.178178Z",
     "shell.execute_reply": "2021-08-16T22:39:59.178715Z",
     "shell.execute_reply.started": "2021-08-16T22:34:49.982847Z"
    },
    "papermill": {
     "duration": 0.03434,
     "end_time": "2021-08-16T22:39:59.178890",
     "exception": false,
     "start_time": "2021-08-16T22:39:59.144550",
     "status": "completed"
    },
    "tags": []
   },
   "outputs": [
    {
     "data": {
      "text/plain": [
       "count      1460.000000\n",
       "mean     180921.195890\n",
       "std       79442.502883\n",
       "min       34900.000000\n",
       "25%      129975.000000\n",
       "50%      163000.000000\n",
       "75%      214000.000000\n",
       "max      755000.000000\n",
       "Name: SalePrice, dtype: float64"
      ]
     },
     "execution_count": 2,
     "metadata": {},
     "output_type": "execute_result"
    }
   ],
   "source": [
    "y.describe()"
   ]
  },
  {
   "cell_type": "markdown",
   "metadata": {
    "papermill": {
     "duration": 0.014998,
     "end_time": "2021-08-16T22:39:59.208634",
     "exception": false,
     "start_time": "2021-08-16T22:39:59.193636",
     "status": "completed"
    },
    "tags": []
   },
   "source": [
    "# Exercises\n",
    "\n",
    "## Step 1: Split Your Data\n",
    "Use the `train_test_split` function to split up your data.\n",
    "\n",
    "Give it the argument `random_state=1` so the `check` functions know what to expect when verifying your code.\n",
    "\n",
    "Recall, your features are loaded in the DataFrame **X** and your target is loaded in **y**.\n"
   ]
  },
  {
   "cell_type": "code",
   "execution_count": 3,
   "metadata": {
    "execution": {
     "iopub.execute_input": "2021-08-16T22:39:59.242046Z",
     "iopub.status.busy": "2021-08-16T22:39:59.241366Z",
     "iopub.status.idle": "2021-08-16T22:39:59.274214Z",
     "shell.execute_reply": "2021-08-16T22:39:59.273550Z",
     "shell.execute_reply.started": "2021-08-16T22:35:00.264771Z"
    },
    "papermill": {
     "duration": 0.050257,
     "end_time": "2021-08-16T22:39:59.274373",
     "exception": false,
     "start_time": "2021-08-16T22:39:59.224116",
     "status": "completed"
    },
    "tags": []
   },
   "outputs": [
    {
     "data": {
      "application/javascript": [
       "parent.postMessage({\"jupyterEvent\": \"custom.exercise_interaction\", \"data\": {\"outcomeType\": 1, \"valueTowardsCompletion\": 0.25, \"interactionType\": 1, \"questionType\": 2, \"questionId\": \"1_SplitData\", \"learnToolsVersion\": \"0.3.4\", \"failureMessage\": \"\", \"exceptionClass\": \"\", \"trace\": \"\"}}, \"*\")"
      ],
      "text/plain": [
       "<IPython.core.display.Javascript object>"
      ]
     },
     "metadata": {},
     "output_type": "display_data"
    },
    {
     "data": {
      "text/markdown": [
       "<span style=\"color:#33cc33\">Correct</span>"
      ],
      "text/plain": [
       "Correct"
      ]
     },
     "metadata": {},
     "output_type": "display_data"
    }
   ],
   "source": [
    "# Import the train_test_split function and uncomment\n",
    "# from _ import _\n",
    "\n",
    "from sklearn.model_selection import train_test_split\n",
    "\n",
    "\n",
    "\n",
    "# fill in and uncomment\n",
    "# train_X, val_X, train_y, val_y = ____\n",
    "\n",
    "train_X, val_X, train_y, val_y = train_test_split(X, y, random_state=1)\n",
    "\n",
    "\n",
    "# Check your answer\n",
    "step_1.check()"
   ]
  },
  {
   "cell_type": "code",
   "execution_count": 4,
   "metadata": {
    "execution": {
     "iopub.execute_input": "2021-08-16T22:39:59.309780Z",
     "iopub.status.busy": "2021-08-16T22:39:59.309024Z",
     "iopub.status.idle": "2021-08-16T22:39:59.312823Z",
     "shell.execute_reply": "2021-08-16T22:39:59.312104Z"
    },
    "papermill": {
     "duration": 0.023151,
     "end_time": "2021-08-16T22:39:59.312990",
     "exception": false,
     "start_time": "2021-08-16T22:39:59.289839",
     "status": "completed"
    },
    "tags": []
   },
   "outputs": [],
   "source": [
    "# The lines below will show you a hint or the solution.\n",
    "# step_1.hint() \n",
    "# step_1.solution()\n"
   ]
  },
  {
   "cell_type": "markdown",
   "metadata": {
    "papermill": {
     "duration": 0.016364,
     "end_time": "2021-08-16T22:39:59.346379",
     "exception": false,
     "start_time": "2021-08-16T22:39:59.330015",
     "status": "completed"
    },
    "tags": []
   },
   "source": [
    "## Step 2: Specify and Fit the Model\n",
    "\n",
    "Create a `DecisionTreeRegressor` model and fit it to the relevant data.\n",
    "Set `random_state` to 1 again when creating the model."
   ]
  },
  {
   "cell_type": "code",
   "execution_count": 5,
   "metadata": {
    "execution": {
     "iopub.execute_input": "2021-08-16T22:39:59.387233Z",
     "iopub.status.busy": "2021-08-16T22:39:59.386120Z",
     "iopub.status.idle": "2021-08-16T22:39:59.414269Z",
     "shell.execute_reply": "2021-08-16T22:39:59.413636Z",
     "shell.execute_reply.started": "2021-08-16T22:35:13.199473Z"
    },
    "papermill": {
     "duration": 0.052305,
     "end_time": "2021-08-16T22:39:59.414424",
     "exception": false,
     "start_time": "2021-08-16T22:39:59.362119",
     "status": "completed"
    },
    "tags": []
   },
   "outputs": [
    {
     "name": "stdout",
     "output_type": "stream",
     "text": [
      "[186500. 184000. 130000.  92000. 164500. 220000. 335000. 144152. 215000.\n",
      " 262000.]\n",
      "[186500. 184000. 130000.  92000. 164500. 220000. 335000. 144152. 215000.\n",
      " 262000.]\n"
     ]
    },
    {
     "data": {
      "application/javascript": [
       "parent.postMessage({\"jupyterEvent\": \"custom.exercise_interaction\", \"data\": {\"outcomeType\": 1, \"valueTowardsCompletion\": 0.25, \"interactionType\": 1, \"questionType\": 2, \"questionId\": \"2_FitModelWithTrain\", \"learnToolsVersion\": \"0.3.4\", \"failureMessage\": \"\", \"exceptionClass\": \"\", \"trace\": \"\"}}, \"*\")"
      ],
      "text/plain": [
       "<IPython.core.display.Javascript object>"
      ]
     },
     "metadata": {},
     "output_type": "display_data"
    },
    {
     "data": {
      "text/markdown": [
       "<span style=\"color:#33cc33\">Correct</span>"
      ],
      "text/plain": [
       "Correct"
      ]
     },
     "metadata": {},
     "output_type": "display_data"
    }
   ],
   "source": [
    "# You imported DecisionTreeRegressor in your last exercise\n",
    "# and that code has been copied to the setup code above. So, no need to\n",
    "# import it again\n",
    "\n",
    "# Specify the model\n",
    "iowa_model = DecisionTreeRegressor(random_state=1)\n",
    "\n",
    "# Fit iowa_model with the training data.\n",
    "iowa_model.fit(train_X, train_y)\n",
    "\n",
    "# Check your answer\n",
    "step_2.check()"
   ]
  },
  {
   "cell_type": "code",
   "execution_count": 6,
   "metadata": {
    "execution": {
     "iopub.execute_input": "2021-08-16T22:39:59.453863Z",
     "iopub.status.busy": "2021-08-16T22:39:59.452775Z",
     "iopub.status.idle": "2021-08-16T22:39:59.456853Z",
     "shell.execute_reply": "2021-08-16T22:39:59.456145Z"
    },
    "papermill": {
     "duration": 0.025429,
     "end_time": "2021-08-16T22:39:59.457009",
     "exception": false,
     "start_time": "2021-08-16T22:39:59.431580",
     "status": "completed"
    },
    "tags": []
   },
   "outputs": [],
   "source": [
    "# step_2.hint()\n",
    "# step_2.solution()"
   ]
  },
  {
   "cell_type": "markdown",
   "metadata": {
    "papermill": {
     "duration": 0.016917,
     "end_time": "2021-08-16T22:39:59.491053",
     "exception": false,
     "start_time": "2021-08-16T22:39:59.474136",
     "status": "completed"
    },
    "tags": []
   },
   "source": [
    "## Step 3: Make Predictions with Validation data\n"
   ]
  },
  {
   "cell_type": "code",
   "execution_count": 7,
   "metadata": {
    "execution": {
     "iopub.execute_input": "2021-08-16T22:39:59.534611Z",
     "iopub.status.busy": "2021-08-16T22:39:59.533858Z",
     "iopub.status.idle": "2021-08-16T22:39:59.540420Z",
     "shell.execute_reply": "2021-08-16T22:39:59.539743Z",
     "shell.execute_reply.started": "2021-08-16T22:35:27.030414Z"
    },
    "papermill": {
     "duration": 0.032439,
     "end_time": "2021-08-16T22:39:59.540572",
     "exception": false,
     "start_time": "2021-08-16T22:39:59.508133",
     "status": "completed"
    },
    "tags": []
   },
   "outputs": [
    {
     "data": {
      "application/javascript": [
       "parent.postMessage({\"jupyterEvent\": \"custom.exercise_interaction\", \"data\": {\"outcomeType\": 1, \"valueTowardsCompletion\": 0.25, \"interactionType\": 1, \"questionType\": 2, \"questionId\": \"3_ValPreds\", \"learnToolsVersion\": \"0.3.4\", \"failureMessage\": \"\", \"exceptionClass\": \"\", \"trace\": \"\"}}, \"*\")"
      ],
      "text/plain": [
       "<IPython.core.display.Javascript object>"
      ]
     },
     "metadata": {},
     "output_type": "display_data"
    },
    {
     "data": {
      "text/markdown": [
       "<span style=\"color:#33cc33\">Correct</span>"
      ],
      "text/plain": [
       "Correct"
      ]
     },
     "metadata": {},
     "output_type": "display_data"
    }
   ],
   "source": [
    "# Predict with all validation observations\n",
    "val_predictions = iowa_model.predict(val_X)\n",
    "\n",
    "\n",
    "# Check your answer\n",
    "step_3.check()"
   ]
  },
  {
   "cell_type": "code",
   "execution_count": 8,
   "metadata": {
    "execution": {
     "iopub.execute_input": "2021-08-16T22:39:59.580445Z",
     "iopub.status.busy": "2021-08-16T22:39:59.579468Z",
     "iopub.status.idle": "2021-08-16T22:39:59.582932Z",
     "shell.execute_reply": "2021-08-16T22:39:59.583404Z"
    },
    "papermill": {
     "duration": 0.024895,
     "end_time": "2021-08-16T22:39:59.583585",
     "exception": false,
     "start_time": "2021-08-16T22:39:59.558690",
     "status": "completed"
    },
    "tags": []
   },
   "outputs": [],
   "source": [
    "# step_3.hint()\n",
    "# step_3.solution()"
   ]
  },
  {
   "cell_type": "markdown",
   "metadata": {
    "papermill": {
     "duration": 0.024528,
     "end_time": "2021-08-16T22:39:59.628049",
     "exception": false,
     "start_time": "2021-08-16T22:39:59.603521",
     "status": "completed"
    },
    "tags": []
   },
   "source": [
    "Inspect your predictions and actual values from validation data."
   ]
  },
  {
   "cell_type": "code",
   "execution_count": 9,
   "metadata": {
    "execution": {
     "iopub.execute_input": "2021-08-16T22:39:59.681745Z",
     "iopub.status.busy": "2021-08-16T22:39:59.679246Z",
     "iopub.status.idle": "2021-08-16T22:39:59.689995Z",
     "shell.execute_reply": "2021-08-16T22:39:59.690805Z",
     "shell.execute_reply.started": "2021-08-16T22:38:51.318116Z"
    },
    "papermill": {
     "duration": 0.039344,
     "end_time": "2021-08-16T22:39:59.690997",
     "exception": false,
     "start_time": "2021-08-16T22:39:59.651653",
     "status": "completed"
    },
    "tags": []
   },
   "outputs": [
    {
     "name": "stdout",
     "output_type": "stream",
     "text": [
      "[186500. 184000. 130000.  92000. 164500.]\n",
      "258     231500\n",
      "267     179500\n",
      "288     122000\n",
      "649      84500\n",
      "1233    142000\n",
      "Name: SalePrice, dtype: int64\n"
     ]
    }
   ],
   "source": [
    "# print the top few validation predictions\n",
    "print(val_predictions[0:5])\n",
    "# print the top few actual prices from validation data\n",
    "print(val_y.head())"
   ]
  },
  {
   "cell_type": "markdown",
   "metadata": {
    "papermill": {
     "duration": 0.01857,
     "end_time": "2021-08-16T22:39:59.735834",
     "exception": false,
     "start_time": "2021-08-16T22:39:59.717264",
     "status": "completed"
    },
    "tags": []
   },
   "source": [
    "What do you notice that is different from what you saw with in-sample predictions (which are printed after the top code cell in this page).\n",
    "\n",
    "Do you remember why validation predictions differ from in-sample (or training) predictions? This is an important idea from the last lesson.\n",
    "\n",
    "## Step 4: Calculate the Mean Absolute Error in Validation Data\n"
   ]
  },
  {
   "cell_type": "code",
   "execution_count": 10,
   "metadata": {
    "execution": {
     "iopub.execute_input": "2021-08-16T22:39:59.775991Z",
     "iopub.status.busy": "2021-08-16T22:39:59.775286Z",
     "iopub.status.idle": "2021-08-16T22:39:59.785059Z",
     "shell.execute_reply": "2021-08-16T22:39:59.785659Z",
     "shell.execute_reply.started": "2021-08-16T22:39:21.844299Z"
    },
    "papermill": {
     "duration": 0.031578,
     "end_time": "2021-08-16T22:39:59.785847",
     "exception": false,
     "start_time": "2021-08-16T22:39:59.754269",
     "status": "completed"
    },
    "tags": []
   },
   "outputs": [
    {
     "name": "stdout",
     "output_type": "stream",
     "text": [
      "29652.931506849316\n"
     ]
    },
    {
     "data": {
      "application/javascript": [
       "parent.postMessage({\"jupyterEvent\": \"custom.exercise_interaction\", \"data\": {\"outcomeType\": 1, \"valueTowardsCompletion\": 0.25, \"interactionType\": 1, \"questionType\": 1, \"questionId\": \"4_MAE\", \"learnToolsVersion\": \"0.3.4\", \"failureMessage\": \"\", \"exceptionClass\": \"\", \"trace\": \"\"}}, \"*\")"
      ],
      "text/plain": [
       "<IPython.core.display.Javascript object>"
      ]
     },
     "metadata": {},
     "output_type": "display_data"
    },
    {
     "data": {
      "text/markdown": [
       "<span style=\"color:#33cc33\">Correct</span>"
      ],
      "text/plain": [
       "Correct"
      ]
     },
     "metadata": {},
     "output_type": "display_data"
    }
   ],
   "source": [
    "from sklearn.metrics import mean_absolute_error\n",
    "val_mae = mean_absolute_error(val_y,val_predictions)\n",
    "\n",
    "# uncomment following line to see the validation_mae\n",
    "print(val_mae)\n",
    "\n",
    "# Check your answer\n",
    "step_4.check()"
   ]
  },
  {
   "cell_type": "code",
   "execution_count": 11,
   "metadata": {
    "execution": {
     "iopub.execute_input": "2021-08-16T22:39:59.829466Z",
     "iopub.status.busy": "2021-08-16T22:39:59.828740Z",
     "iopub.status.idle": "2021-08-16T22:39:59.831911Z",
     "shell.execute_reply": "2021-08-16T22:39:59.832415Z"
    },
    "papermill": {
     "duration": 0.027036,
     "end_time": "2021-08-16T22:39:59.832620",
     "exception": false,
     "start_time": "2021-08-16T22:39:59.805584",
     "status": "completed"
    },
    "tags": []
   },
   "outputs": [],
   "source": [
    "# step_4.hint()\n",
    "# step_4.solution()"
   ]
  },
  {
   "cell_type": "markdown",
   "metadata": {
    "papermill": {
     "duration": 0.019228,
     "end_time": "2021-08-16T22:39:59.871558",
     "exception": false,
     "start_time": "2021-08-16T22:39:59.852330",
     "status": "completed"
    },
    "tags": []
   },
   "source": [
    "Is that MAE good?  There isn't a general rule for what values are good that applies across applications. But you'll see how to use (and improve) this number in the next step.\n",
    "\n",
    "# Keep Going\n",
    "\n",
    "You are ready for **[Underfitting and Overfitting](https://www.kaggle.com/dansbecker/underfitting-and-overfitting).**\n"
   ]
  },
  {
   "cell_type": "markdown",
   "metadata": {
    "papermill": {
     "duration": 0.019376,
     "end_time": "2021-08-16T22:39:59.910812",
     "exception": false,
     "start_time": "2021-08-16T22:39:59.891436",
     "status": "completed"
    },
    "tags": []
   },
   "source": [
    "---\n",
    "\n",
    "\n",
    "\n",
    "\n",
    "*Have questions or comments? Visit the [Learn Discussion forum](https://www.kaggle.com/learn-forum/161285) to chat with other Learners.*"
   ]
  }
 ],
 "metadata": {
  "kernelspec": {
   "display_name": "Python 3",
   "language": "python",
   "name": "python3"
  },
  "language_info": {
   "codemirror_mode": {
    "name": "ipython",
    "version": 3
   },
   "file_extension": ".py",
   "mimetype": "text/x-python",
   "name": "python",
   "nbconvert_exporter": "python",
   "pygments_lexer": "ipython3",
   "version": "3.8.5"
  },
  "papermill": {
   "default_parameters": {},
   "duration": 12.735221,
   "end_time": "2021-08-16T22:40:01.710504",
   "environment_variables": {},
   "exception": null,
   "input_path": "__notebook__.ipynb",
   "output_path": "__notebook__.ipynb",
   "parameters": {},
   "start_time": "2021-08-16T22:39:48.975283",
   "version": "2.3.3"
  },
  "toc": {
   "base_numbering": 1,
   "nav_menu": {},
   "number_sections": true,
   "sideBar": true,
   "skip_h1_title": false,
   "title_cell": "Table of Contents",
   "title_sidebar": "Contents",
   "toc_cell": false,
   "toc_position": {},
   "toc_section_display": true,
   "toc_window_display": false
  }
 },
 "nbformat": 4,
 "nbformat_minor": 5
}
